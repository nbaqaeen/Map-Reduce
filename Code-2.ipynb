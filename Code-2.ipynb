{
 "cells": [
  {
   "cell_type": "markdown",
   "id": "65ebf230-5ac5-4ae0-9973-10082038bfcf",
   "metadata": {},
   "source": [
    "MapReduce Simulation in Python to Find The Passenger with the Most Number of Flights\n",
    "\n",
    "Student: Nadeem Al-Buqaeen 32838974\n",
    "\n",
    "Date: 19/06/2025\n",
    "\n",
    "Course: CSMBD\n",
    "\n",
    "Description: This script simulates a MapReduce prototype to determine the passenger who have taken the highest number of flights based on a CSV dataset."
   ]
  },
  {
   "cell_type": "code",
   "execution_count": 1,
   "id": "4f828769-f341-40d8-b63e-98002e7356ba",
   "metadata": {},
   "outputs": [],
   "source": [
    "# importing the required libraries\n",
    "import pandas as pd\n",
    "from collections import defaultdict\n",
    "import threading"
   ]
  },
  {
   "cell_type": "code",
   "execution_count": 15,
   "id": "1d7b6c1e-ef66-459c-98f8-d64ec04b636d",
   "metadata": {},
   "outputs": [],
   "source": [
    "# load the dataset\n",
    "passenger_df = pd.read_csv('/Users/nadeembaqaeen/Desktop/CSMBD_Coursework/AComp_Passenger_data_no_error.csv', header=None)"
   ]
  },
  {
   "cell_type": "code",
   "execution_count": 25,
   "id": "d9135a0b-37cb-42c5-8a95-66097145f341",
   "metadata": {},
   "outputs": [],
   "source": [
    "# Map Phase : declare (passenger_id, 1) for each flight record\n",
    "def map_phase(data_chunk):\n",
    "    mapped = []\n",
    "    for _, row in data_chunk.iterrows():\n",
    "        passenger_id = row[0]\n",
    "        mapped.append((passenger_id, 1))\n",
    "    return mapped"
   ]
  },
  {
   "cell_type": "code",
   "execution_count": 45,
   "id": "45627374-d8c1-4025-9a3c-d468ac9156e9",
   "metadata": {},
   "outputs": [],
   "source": [
    "# Shuffle Phase : grouping all the values by passenger_id\n",
    "def shuffle_phase(mapped_data):\n",
    "    shuffled = defaultdict(list)\n",
    "    for key, value in mapped_data:\n",
    "        shuffled[key].append(value)\n",
    "    return shuffled"
   ]
  },
  {
   "cell_type": "code",
   "execution_count": 47,
   "id": "aa1dbbff-a19e-486c-8b71-0292ed322dff",
   "metadata": {},
   "outputs": [],
   "source": [
    "# Reduce Phase : Summation of all flights for each passenger_id\n",
    "def reduce_phase(shuffled_data):\n",
    "    reduced = {}\n",
    "    for key in shuffled_data:\n",
    "        reduced[key] = sum(shuffled_data[key])\n",
    "    return reduced"
   ]
  },
  {
   "cell_type": "code",
   "execution_count": 49,
   "id": "be2651bb-627f-4f6e-ba37-ac00b446e2f5",
   "metadata": {},
   "outputs": [],
   "source": [
    "# Thread worker for map phase\n",
    "def threaded_map(data, results, index):\n",
    "    results[index] = map_phase(data)"
   ]
  },
  {
   "cell_type": "code",
   "execution_count": 51,
   "id": "91cc7f26-a0c6-4787-81af-3d0bb34368e5",
   "metadata": {},
   "outputs": [],
   "source": [
    "# Split data into chunks for parallel processing\n",
    "num_threads = 4\n",
    "chunk_size = len(passenger_df) // num_threads\n",
    "data_chunks = [passenger_df.iloc[i*chunk_size : (i+1)*chunk_size] for i in range(num_threads)]"
   ]
  },
  {
   "cell_type": "code",
   "execution_count": 53,
   "id": "e141e0c4-eec9-41b4-a40d-08be74d9d846",
   "metadata": {},
   "outputs": [],
   "source": [
    "# Add any leftover data to the last chunk\n",
    "if len(passenger_df) % num_threads != 0:\n",
    "    data_chunks[-1] = pd.concat([data_chunks[-1], passenger_df.iloc[num_threads*chunk_size:]])"
   ]
  },
  {
   "cell_type": "code",
   "execution_count": 55,
   "id": "701cf53a-a224-45fe-ad3f-835e4469fa4c",
   "metadata": {},
   "outputs": [],
   "source": [
    "# Perform map phase using threads\n",
    "mapped_results = [None] * num_threads\n",
    "threads = []\n",
    "for i in range(num_threads):\n",
    "    t = threading.Thread(target=threaded_map, args=(data_chunks[i], mapped_results, i))\n",
    "    threads.append(t)\n",
    "    t.start()"
   ]
  },
  {
   "cell_type": "code",
   "execution_count": 57,
   "id": "9976ca3e-3b89-4fc4-82c2-9c21f751f3b8",
   "metadata": {},
   "outputs": [],
   "source": [
    "# Wait for all threads to finish\n",
    "for t in threads:\n",
    "    t.join()"
   ]
  },
  {
   "cell_type": "code",
   "execution_count": 59,
   "id": "19cb4263-1eb7-45d2-8152-71a3b13304aa",
   "metadata": {},
   "outputs": [],
   "source": [
    "# Combine all mapped results\n",
    "combined_mapped = [item for sublist in mapped_results for item in sublist]"
   ]
  },
  {
   "cell_type": "code",
   "execution_count": 61,
   "id": "2ba3cc43-0f5a-485e-abf8-325c3ef09c9d",
   "metadata": {},
   "outputs": [],
   "source": [
    "# Shuffle and Reduce\n",
    "shuffled_data = shuffle_phase(combined_mapped)\n",
    "reduced_data = reduce_phase(shuffled_data)"
   ]
  },
  {
   "cell_type": "code",
   "execution_count": 69,
   "id": "803525da-4f89-4a74-a02c-3acf45648204",
   "metadata": {},
   "outputs": [],
   "source": [
    "# Find passenger with the highest number of flights\n",
    "max_flights = max(reduced_data.values())\n",
    "top_passengers = [pid for pid, count in reduced_data.items() if count == max_flights]"
   ]
  },
  {
   "cell_type": "code",
   "execution_count": 71,
   "id": "a8c01b08-a27f-411e-ba72-7df35156517d",
   "metadata": {},
   "outputs": [
    {
     "name": "stdout",
     "output_type": "stream",
     "text": [
      "The Passenger with the highest number of flights:\n",
      "Passenger ID: UES9151GS5, Flights: 25\n"
     ]
    }
   ],
   "source": [
    "# Output result\n",
    "print(\"The Passenger with the highest number of flights:\")\n",
    "for pid in top_passengers:\n",
    "    print(f\"Passenger ID: {pid}, Flights: {max_flights}\")"
   ]
  }
 ],
 "metadata": {
  "kernelspec": {
   "display_name": "Python [conda env:base] *",
   "language": "python",
   "name": "conda-base-py"
  },
  "language_info": {
   "codemirror_mode": {
    "name": "ipython",
    "version": 3
   },
   "file_extension": ".py",
   "mimetype": "text/x-python",
   "name": "python",
   "nbconvert_exporter": "python",
   "pygments_lexer": "ipython3",
   "version": "3.12.2"
  }
 },
 "nbformat": 4,
 "nbformat_minor": 5
}
